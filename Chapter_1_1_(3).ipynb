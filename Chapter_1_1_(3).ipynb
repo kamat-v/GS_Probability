{
  "nbformat": 4,
  "nbformat_minor": 0,
  "metadata": {
    "colab": {
      "provenance": [],
      "authorship_tag": "ABX9TyPZY/rUjg3RvDPrYk9ImR+/",
      "include_colab_link": true
    },
    "kernelspec": {
      "name": "python3",
      "display_name": "Python 3"
    },
    "language_info": {
      "name": "python"
    }
  },
  "cells": [
    {
      "cell_type": "markdown",
      "metadata": {
        "id": "view-in-github",
        "colab_type": "text"
      },
      "source": [
        "<a href=\"https://colab.research.google.com/github/kamat-v/GS_Probability/blob/main/Chapter_1_1_(3).ipynb\" target=\"_parent\"><img src=\"https://colab.research.google.com/assets/colab-badge.svg\" alt=\"Open In Colab\"/></a>"
      ]
    },
    {
      "cell_type": "code",
      "source": [
        "import numpy as np\n",
        "import matplotlib.pyplot as plt"
      ],
      "metadata": {
        "id": "D2vbRE1zde5m"
      },
      "execution_count": 2,
      "outputs": []
    },
    {
      "cell_type": "markdown",
      "source": [
        "**a**. Write a program to simulate the roll of three dice a large number of times and keep track of the proportion of times that the sum is 9 and the proportion of the times it is 10.\n",
        "\n",
        "**b**. Is the sum 9 less often than 10?\n"
      ],
      "metadata": {
        "id": "tkdmZXwpY8oH"
      }
    },
    {
      "cell_type": "code",
      "execution_count": 15,
      "metadata": {
        "colab": {
          "base_uri": "https://localhost:8080/"
        },
        "id": "k1Pb8hnuY7sP",
        "outputId": "0535021b-b44e-4f2c-db71-be2902ba8316"
      },
      "outputs": [
        {
          "output_type": "stream",
          "name": "stdout",
          "text": [
            "[120. 132.]\n",
            "The gamblers did have a point!\n"
          ]
        }
      ],
      "source": [
        "N=1000 #number of simulations\n",
        "NineVTen=np.zeros(2)\n",
        "for i in range(N):\n",
        "  arr=np.random.randint(low=1, high=7, size=3)\n",
        "  if sum(arr)==9:\n",
        "    NineVTen[0]+=1\n",
        "  if sum(arr)==10:\n",
        "    NineVTen[1]+=1\n",
        "print (NineVTen)\n",
        "print ('The gamblers did have a point!')"
      ]
    }
  ]
}