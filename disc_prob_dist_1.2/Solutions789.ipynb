{
  "nbformat": 4,
  "nbformat_minor": 0,
  "metadata": {
    "colab": {
      "provenance": [],
      "authorship_tag": "ABX9TyObLmHf/8jlC+Jno8/hYDgh",
      "include_colab_link": true
    },
    "kernelspec": {
      "name": "python3",
      "display_name": "Python 3"
    },
    "language_info": {
      "name": "python"
    }
  },
  "cells": [
    {
      "cell_type": "markdown",
      "metadata": {
        "id": "view-in-github",
        "colab_type": "text"
      },
      "source": [
        "<a href=\"https://colab.research.google.com/github/kamat-v/GS_Probability/blob/main/disc_prob_dist_1.2/Solutions789.ipynb\" target=\"_parent\"><img src=\"https://colab.research.google.com/assets/colab-badge.svg\" alt=\"Open In Colab\"/></a>"
      ]
    },
    {
      "cell_type": "markdown",
      "source": [
        "**1.2.7** Let $A$ and $B$ be events such that $P(A\\cap B)=1/4$, $P(\\tilde{A})=1/3$ and $P(B)=1/2$. Find $P(A\\cup B)$.\n",
        "\n",
        "**Solution:** $P(A)=2/3$, so $P(A\\cup B)=P(A)+P(B)-P(A\\cap B)=2/3+1/2-1/4=11/12$"
      ],
      "metadata": {
        "id": "SQBgK7hdUy7e"
      }
    },
    {
      "cell_type": "markdown",
      "source": [
        "**1.2.8** A student must choose one of arts, geology or psychology as an elective. She is equally likely to choose art or psychology but twice as likely to choose geology. What are the probabilities she choose each of the subjects?\n",
        "\n",
        "**Solution: ** If the probabilit that she choose art is $x$, then $x+x+2x=1$, yielding $x=1/4$. Thus, the proabilities $P(a)=P(p)=1/4$ and $P(g)=1/2$."
      ],
      "metadata": {
        "id": "JrfOvWxnWUH6"
      }
    },
    {
      "cell_type": "markdown",
      "source": [
        "**1.2.9** A student must choose exactly two out of three electives: art, French and mathematics. He choose art with probability $5/8$, French with probability $5/8$, and art and French together with probability $1/4$. What is the probability that he chooses mathematics? What is the probability that he chooses art or French?\n",
        "\n",
        "$\\Omega=\\{AF, FM, AM\\}$.\n",
        "\n",
        "The probability that he chooses mathematics is the probability of the event $E_m=\\{FM,AM\\}$, which is $1-P(E_{af})$, where $E_{af}=\\{AF\\}$. We're given that $P(E_{af})=1/4$, thus $P(E_m)=3/4$.\n",
        "\n",
        "The probability that he chooses art or french is $1$."
      ],
      "metadata": {
        "id": "FW3PiD9pXsfx"
      }
    },
    {
      "cell_type": "code",
      "source": [],
      "metadata": {
        "id": "_U4ZM1pdYr3r"
      },
      "execution_count": null,
      "outputs": []
    }
  ]
}