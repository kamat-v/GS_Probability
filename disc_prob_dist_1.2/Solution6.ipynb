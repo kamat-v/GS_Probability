{
  "nbformat": 4,
  "nbformat_minor": 0,
  "metadata": {
    "colab": {
      "provenance": [],
      "authorship_tag": "ABX9TyMg+Wu8CZ4VYnX25mjBbZCz",
      "include_colab_link": true
    },
    "kernelspec": {
      "name": "python3",
      "display_name": "Python 3"
    },
    "language_info": {
      "name": "python"
    }
  },
  "cells": [
    {
      "cell_type": "markdown",
      "metadata": {
        "id": "view-in-github",
        "colab_type": "text"
      },
      "source": [
        "<a href=\"https://colab.research.google.com/github/kamat-v/GS_Probability/blob/main/disc_prob_dist_1.2/Solution6.ipynb\" target=\"_parent\"><img src=\"https://colab.research.google.com/assets/colab-badge.svg\" alt=\"Open In Colab\"/></a>"
      ]
    },
    {
      "cell_type": "markdown",
      "source": [
        "**1.2.7** A die is loaded so that the probability of each face turning up is proportional to the number of dots on it. Find probability of getting an even number in one throw.\n",
        "\n",
        "If $\\Omega=\\{1,2,3,4,5,6\\}$ is the sample space, and if $p(1)=x$, then $p(i)=ix$, for $1\\leq i\\leq 6$. Since $\\sum_{i=1}^6 p(i)=1$, we get $x(1+2+3+4+5+6)=1$, which yields $x=1/21$. Thus for the event $E=\\{2,4,6\\}$, $P(E)=(2+4+6)/21=4/7$."
      ],
      "metadata": {
        "id": "p3zFIF5iRpys"
      }
    }
  ]
}