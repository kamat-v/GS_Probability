{
  "nbformat": 4,
  "nbformat_minor": 0,
  "metadata": {
    "colab": {
      "provenance": [],
      "authorship_tag": "ABX9TyNbxAgG4SHQ3/kn1p7Th7Zh",
      "include_colab_link": true
    },
    "kernelspec": {
      "name": "python3",
      "display_name": "Python 3"
    },
    "language_info": {
      "name": "python"
    }
  },
  "cells": [
    {
      "cell_type": "markdown",
      "metadata": {
        "id": "view-in-github",
        "colab_type": "text"
      },
      "source": [
        "<a href=\"https://colab.research.google.com/github/kamat-v/GS_Probability/blob/main/disc_prob_dist_1.2/Solutions2and3.ipynb\" target=\"_parent\"><img src=\"https://colab.research.google.com/assets/colab-badge.svg\" alt=\"Open In Colab\"/></a>"
      ]
    },
    {
      "cell_type": "markdown",
      "source": [
        "**1.2.2** Give a possible sample space $\\Omega$ for each of the following experiments:\n",
        "\n",
        "An election decides between two candidates $A$ and $B$.\n",
        "\n",
        "$\\Omega=\\{A,B\\}$\n",
        "\n",
        "A two sided coin is tossed.\n",
        "     \n",
        "$\\Omega=\\{1,2\\}$\n",
        "\n",
        "A student is asked for the month of the year and the day of the week on\n",
        "which her birthday falls.\n",
        "\n",
        "$M=\\{m_1, m_2,\\ldots,m_{11}, m_{12}\\}$, where $m_i$ denotes the $i^{th}$ month of the year, so $m_3$ is March, and so on.\n",
        "$D=\\{d_1,d_2,\\ldots,d_7\\}$, where $d_i$ is the $i^{th}$ day of the week, so $d_1$ is Monday, $d_5$ is Friday, and so on.\n",
        "\n",
        "$\\Omega=\\{(m_i,d_j):1\\leq i\\leq 12, 1\\leq j\\leq 7\\}$.\n",
        "\n",
        "A student is chosen at random from a class of $10$ students.\n",
        "\n",
        "$\\Omega=\\{1,2,3,4,5,6,7,8,9,10\\}$.\n",
        "\n",
        "You receive a grade in this course.\n",
        "\n",
        "$\\Omega=\\{A, B, C, D, F\\}$\n",
        "\n"
      ],
      "metadata": {
        "id": "xM63MeYlDiu5"
      }
    },
    {
      "cell_type": "markdown",
      "source": [
        "**1.2.3** For which of the cases in Exercise 1.2.2 would it be reasonable to assign the uniform distribution function.\n",
        "\n",
        "Cases $2$, and $4$ from the above could reasonbly be assigned a uniform distribution function as all outcomes are equally likely.\n"
      ],
      "metadata": {
        "id": "NfBjMtZJIGcK"
      }
    },
    {
      "cell_type": "code",
      "source": [],
      "metadata": {
        "id": "avx3ONBBJnug"
      },
      "execution_count": null,
      "outputs": []
    }
  ]
}