{
  "nbformat": 4,
  "nbformat_minor": 0,
  "metadata": {
    "colab": {
      "provenance": [],
      "authorship_tag": "ABX9TyMOpKbR6s3oAHYxD6Hnc7nG",
      "include_colab_link": true
    },
    "kernelspec": {
      "name": "python3",
      "display_name": "Python 3"
    },
    "language_info": {
      "name": "python"
    }
  },
  "cells": [
    {
      "cell_type": "markdown",
      "metadata": {
        "id": "view-in-github",
        "colab_type": "text"
      },
      "source": [
        "<a href=\"https://colab.research.google.com/github/kamat-v/GS_Probability/blob/main/disc_prob_dist_1.2/Solution01.ipynb\" target=\"_parent\"><img src=\"https://colab.research.google.com/assets/colab-badge.svg\" alt=\"Open In Colab\"/></a>"
      ]
    },
    {
      "cell_type": "markdown",
      "source": [
        "Let $\\Omega=\\{a,b,c\\}$ be a sample space. Let $m(a)=1/2$, $m(b)=1/3$ and $m(c)=1/6$. Find probabilities for all subsets of $\\Omega$.\n",
        "\n",
        "**Solution: ** We will show the probabilities for subsets $\\{c\\}$, $\\{a,b\\}$, $\\{a,c\\}$ and $\\{a,b,c\\}$. The others can be computed similarly.\n",
        "\n",
        "$P(\\{c\\})=1/6$\n",
        "\n",
        "$P(\\{a,b\\})=1/2+1/3=5/6$\n",
        "\n",
        "$P(\\Omega)=1/2+1/3+1/6=1$."
      ],
      "metadata": {
        "id": "tBwltvt4Aveu"
      }
    },
    {
      "cell_type": "code",
      "source": [],
      "metadata": {
        "id": "XZLWxOUTDLlP"
      },
      "execution_count": null,
      "outputs": []
    }
  ]
}