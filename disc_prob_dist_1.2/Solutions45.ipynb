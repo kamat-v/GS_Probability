{
  "nbformat": 4,
  "nbformat_minor": 0,
  "metadata": {
    "colab": {
      "provenance": [],
      "authorship_tag": "ABX9TyObvPEnNzGGcNMrnvB9Ymq5",
      "include_colab_link": true
    },
    "kernelspec": {
      "name": "python3",
      "display_name": "Python 3"
    },
    "language_info": {
      "name": "python"
    }
  },
  "cells": [
    {
      "cell_type": "markdown",
      "metadata": {
        "id": "view-in-github",
        "colab_type": "text"
      },
      "source": [
        "<a href=\"https://colab.research.google.com/github/kamat-v/GS_Probability/blob/main/disc_prob_dist_1.2/Solutions45.ipynb\" target=\"_parent\"><img src=\"https://colab.research.google.com/assets/colab-badge.svg\" alt=\"Open In Colab\"/></a>"
      ]
    },
    {
      "cell_type": "markdown",
      "source": [
        "**1.2.4** Describe in words the events specified by the following subsets of $\\Omega=\\{HHH,HHT,HTH,HTT,THH,THT,TTH,TTT\\}$.\n",
        "\n",
        "A two-sided coin is tossed twice, and :\n",
        "\n",
        "$E_a=\\{HHH,HHT,HTH,HTT\\}$\n",
        "\n",
        "Event that the first toss lands heads.\n",
        "\n",
        "$E_b=\\{HHH,TTT\\}$\n",
        "\n",
        "Event that all three tosses are the same side, i.e. all heads or all tails.\n",
        "\n",
        "$E_c=\\{HHT,HTH,THH\\}$\n",
        "\n",
        "Event that exactly two out of the three tosses land heads.\n",
        "\n",
        "$E_d=\\{HHT, HTH, HTT,THH,THT,TTH,TTT\\}$\n",
        "\n",
        "Event that at least one of the tosses land tails."
      ],
      "metadata": {
        "id": "C-XMigZ2KOxn"
      }
    },
    {
      "cell_type": "markdown",
      "source": [
        "**1.2.5**\n",
        "\n",
        "$P(E_a)=1/2$\n",
        "\n",
        "$P(E_b)=1/4$\n",
        "\n",
        "$P(E_c)=3/8$\n",
        "\n",
        "$P(E_d)=7/8$"
      ],
      "metadata": {
        "id": "ncpanRGiP9sz"
      }
    },
    {
      "cell_type": "code",
      "source": [],
      "metadata": {
        "id": "RRkvVhiIQQNg"
      },
      "execution_count": null,
      "outputs": []
    }
  ]
}